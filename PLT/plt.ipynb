{
 "cells": [
  {
   "cell_type": "markdown",
   "metadata": {},
   "source": [
    "# Curso de matplotib\n",
    "\n",
    "Este notebook tem o intuito de aprender testanto metodos de geração de graficos para uma melhor visualização dos dados no jupter notebook afim de impressionar recrutadores e que possam entender melhor os trabalhos realizados."
   ]
  },
  {
   "cell_type": "code",
   "execution_count": 3,
   "metadata": {},
   "outputs": [],
   "source": [
    "import matplotlib.pyplot as plt\n",
    "import numpy as np\n",
    "\n",
    "%matplotlib inline"
   ]
  },
  {
   "cell_type": "code",
   "execution_count": 1,
   "metadata": {},
   "outputs": [
    {
     "ename": "NameError",
     "evalue": "name 'df' is not defined",
     "output_type": "error",
     "traceback": [
      "\u001b[0;31m---------------------------------------------------------------------------\u001b[0m",
      "\u001b[0;31mNameError\u001b[0m                                 Traceback (most recent call last)",
      "Cell \u001b[0;32mIn[1], line 7\u001b[0m\n\u001b[1;32m      2\u001b[0m \u001b[39mimport\u001b[39;00m \u001b[39mseaborn\u001b[39;00m \u001b[39mas\u001b[39;00m \u001b[39msns\u001b[39;00m\n\u001b[1;32m      4\u001b[0m \u001b[39m# Suponha que 'df' seja o seu DataFrame\u001b[39;00m\n\u001b[1;32m      5\u001b[0m \n\u001b[1;32m      6\u001b[0m \u001b[39m# Obtenha a lista de variáveis do DataFrame\u001b[39;00m\n\u001b[0;32m----> 7\u001b[0m variaveis \u001b[39m=\u001b[39m df\u001b[39m.\u001b[39mcolumns\n\u001b[1;32m      9\u001b[0m \u001b[39m# Defina o número máximo de gráficos por linha\u001b[39;00m\n\u001b[1;32m     10\u001b[0m max_graficos_por_linha \u001b[39m=\u001b[39m \u001b[39m4\u001b[39m\n",
      "\u001b[0;31mNameError\u001b[0m: name 'df' is not defined"
     ]
    }
   ],
   "source": [
    "import matplotlib.pyplot as plt\n",
    "import seaborn as sns\n",
    "\n",
    "# Suponha que 'df' seja o seu DataFrame\n",
    "\n",
    "# Obtenha a lista de variáveis do DataFrame\n",
    "variaveis = df.columns\n",
    "\n",
    "# Defina o número máximo de gráficos por linha\n",
    "max_graficos_por_linha = 4\n",
    "\n",
    "# Calcule o número total de linhas necessárias\n",
    "num_linhas = len(variaveis) // max_graficos_por_linha + (len(variaveis) % max_graficos_por_linha > 0)\n",
    "\n",
    "# Crie uma figura com subplots\n",
    "fig, axs = plt.subplots(num_linhas, max_graficos_por_linha, figsize=(16, 4 * num_linhas))\n",
    "\n",
    "# Flatten a matriz de eixos para facilitar o acesso aos subplots\n",
    "axs = axs.flatten()\n",
    "\n",
    "# Itere pelas variáveis e crie um gráfico de caixa para cada uma\n",
    "for i, variavel in enumerate(variaveis):\n",
    "    ax = axs[i]\n",
    "    sns.boxplot(data=df, x=variavel, ax=ax)\n",
    "    ax.set_title(f'Boxplot de {variavel}')\n",
    "    \n",
    "# Remova subplots não utilizados (se houver)\n",
    "for i in range(len(variaveis), num_linhas * max_graficos_por_linha):\n",
    "    fig.delaxes(axs[i])\n",
    "\n",
    "# Ajuste o layout\n",
    "plt.tight_layout()\n",
    "\n",
    "# Exiba o gráfico\n",
    "plt.show()\n"
   ]
  }
 ],
 "metadata": {
  "kernelspec": {
   "display_name": "env",
   "language": "python",
   "name": "python3"
  },
  "language_info": {
   "codemirror_mode": {
    "name": "ipython",
    "version": 3
   },
   "file_extension": ".py",
   "mimetype": "text/x-python",
   "name": "python",
   "nbconvert_exporter": "python",
   "pygments_lexer": "ipython3",
   "version": "3.10.12"
  },
  "orig_nbformat": 4
 },
 "nbformat": 4,
 "nbformat_minor": 2
}
