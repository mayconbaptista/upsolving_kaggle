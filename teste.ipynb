{
 "cells": [
  {
   "cell_type": "markdown",
   "metadata": {},
   "source": [
    "### Testando iloc"
   ]
  },
  {
   "cell_type": "code",
   "execution_count": 6,
   "metadata": {},
   "outputs": [
    {
     "name": "stdout",
     "output_type": "stream",
     "text": [
      "   Coluna1  Coluna2  Coluna3  Coluna4  soma\n",
      "0        0        1        1        0     0\n",
      "1        1        0        1        1     1\n",
      "2        1        0        0        0     0\n",
      "3        0        1        1        0     0\n"
     ]
    }
   ],
   "source": [
    "import pandas as pd\n",
    "\n",
    "# Exemplo de DataFrame com valores binários\n",
    "data = {\n",
    "    'Coluna1': [0, 1, 1, 0],\n",
    "    'Coluna2': [1, 0, 0, 1],\n",
    "    'Coluna3': [1, 1, 0, 1],\n",
    "    'Coluna4': [0, 1, 0, 0]\n",
    "}\n",
    "\n",
    "df = pd.DataFrame(data)\n",
    "\n",
    "df['soma'] = df.iloc[:, [3]].sum(axis=1)\n",
    "\n",
    "print(df)"
   ]
  },
  {
   "cell_type": "code",
   "execution_count": 9,
   "metadata": {},
   "outputs": [],
   "source": [
    "copia = df.applymap(lambda x: x + 2)"
   ]
  },
  {
   "cell_type": "code",
   "execution_count": 11,
   "metadata": {},
   "outputs": [
    {
     "data": {
      "text/html": [
       "<div>\n",
       "<style scoped>\n",
       "    .dataframe tbody tr th:only-of-type {\n",
       "        vertical-align: middle;\n",
       "    }\n",
       "\n",
       "    .dataframe tbody tr th {\n",
       "        vertical-align: top;\n",
       "    }\n",
       "\n",
       "    .dataframe thead th {\n",
       "        text-align: right;\n",
       "    }\n",
       "</style>\n",
       "<table border=\"1\" class=\"dataframe\">\n",
       "  <thead>\n",
       "    <tr style=\"text-align: right;\">\n",
       "      <th></th>\n",
       "      <th>Coluna1</th>\n",
       "      <th>Coluna2</th>\n",
       "      <th>Coluna3</th>\n",
       "      <th>Coluna4</th>\n",
       "      <th>soma</th>\n",
       "    </tr>\n",
       "  </thead>\n",
       "  <tbody>\n",
       "    <tr>\n",
       "      <th>0</th>\n",
       "      <td>2</td>\n",
       "      <td>2</td>\n",
       "      <td>2</td>\n",
       "      <td>2</td>\n",
       "      <td>2</td>\n",
       "    </tr>\n",
       "    <tr>\n",
       "      <th>1</th>\n",
       "      <td>2</td>\n",
       "      <td>2</td>\n",
       "      <td>2</td>\n",
       "      <td>2</td>\n",
       "      <td>2</td>\n",
       "    </tr>\n",
       "    <tr>\n",
       "      <th>2</th>\n",
       "      <td>2</td>\n",
       "      <td>2</td>\n",
       "      <td>2</td>\n",
       "      <td>2</td>\n",
       "      <td>2</td>\n",
       "    </tr>\n",
       "    <tr>\n",
       "      <th>3</th>\n",
       "      <td>2</td>\n",
       "      <td>2</td>\n",
       "      <td>2</td>\n",
       "      <td>2</td>\n",
       "      <td>2</td>\n",
       "    </tr>\n",
       "  </tbody>\n",
       "</table>\n",
       "</div>"
      ],
      "text/plain": [
       "   Coluna1  Coluna2  Coluna3  Coluna4  soma\n",
       "0        2        2        2        2     2\n",
       "1        2        2        2        2     2\n",
       "2        2        2        2        2     2\n",
       "3        2        2        2        2     2"
      ]
     },
     "execution_count": 11,
     "metadata": {},
     "output_type": "execute_result"
    }
   ],
   "source": [
    "copia - df"
   ]
  },
  {
   "cell_type": "code",
   "execution_count": 2,
   "metadata": {},
   "outputs": [
    {
     "data": {
      "text/plain": [
       "0.515152"
      ]
     },
     "execution_count": 2,
     "metadata": {},
     "output_type": "execute_result"
    }
   ],
   "source": [
    "round(0.51515151, 6)"
   ]
  },
  {
   "cell_type": "code",
   "execution_count": 5,
   "metadata": {},
   "outputs": [
    {
     "name": "stdout",
     "output_type": "stream",
     "text": [
      "Precisão: 0.6666666666666666\n",
      "Revocação: 0.6666666666666666\n"
     ]
    }
   ],
   "source": [
    "from sklearn.metrics import precision_score, recall_score\n",
    "\n",
    "# Exemplo de rótulos verdadeiros e previsões do modelo\n",
    "y_true = [1, 0, 1, 0, 1]\n",
    "y_pred = [1, 0, 0, 1, 1]\n",
    "\n",
    "# Calcular a precisão\n",
    "precision = precision_score(y_true, y_pred)\n",
    "\n",
    "# Calcular a revocação (recall)\n",
    "recall = recall_score(y_true, y_pred)\n",
    "\n",
    "print(\"Precisão:\", precision)\n",
    "print(\"Revocação:\", recall)\n"
   ]
  },
  {
   "cell_type": "code",
   "execution_count": 4,
   "metadata": {},
   "outputs": [],
   "source": [
    "import pandas as pd\n",
    "\n",
    "# Exemplo de DataFrame\n",
    "data = pd.DataFrame({\n",
    "    'Nome': ['Alice', 'Bob', 'Carol'],\n",
    "    'Idade': [25, 30, 28],\n",
    "    'Cidade': ['São Paulo', 'Rio de Janeiro', 'Belo Horizonte']\n",
    "})\n",
    "\n",
    "# Exportando o DataFrame para uma tabela Markdown\n",
    "tabela_markdown = data.to_markdown(index=False)  # Define index=False para não incluir o índice do DataFrame na tabela\n",
    "\n",
    "# Salvar a tabela em um arquivo Markdown\n",
    "with open('temp.md', 'w') as f:\n",
    "    f.write(tabela_markdown)\n"
   ]
  },
  {
   "cell_type": "code",
   "execution_count": 17,
   "metadata": {},
   "outputs": [
    {
     "name": "stdout",
     "output_type": "stream",
     "text": [
      "         A   B   C   D\n",
      "linha1 NaN NaN NaN NaN\n",
      "linha2 NaN NaN NaN NaN\n",
      "linha3 NaN NaN NaN NaN\n"
     ]
    }
   ],
   "source": [
    "import pandas as pd\n",
    "\n",
    "# Exemplo dos DataFrames\n",
    "data_atualizado = pd.DataFrame({\n",
    "    'A': [10, 20, 30],\n",
    "    'B': [5, 15, 25]\n",
    "}, index=['linha1', 'linha2', 'linha3'])\n",
    "\n",
    "data_desatualizado = pd.DataFrame({\n",
    "    'C': [5, 10, 15],\n",
    "    'D': [2, 5, 10]\n",
    "}, index=['linha1', 'linha2', 'linha3'])\n",
    "\n",
    "# Subtraindo o DataFrame atualizado pelo desatualizado\n",
    "data_desatualizado.index.reindex(data_atualizado.index)\n",
    "\n",
    "diferenca = data_atualizado - data_desatualizado\n",
    "\n",
    "print(diferenca)\n"
   ]
  },
  {
   "cell_type": "code",
   "execution_count": 15,
   "metadata": {},
   "outputs": [
    {
     "name": "stdout",
     "output_type": "stream",
     "text": [
      "      A     B     C  E\n",
      "0  1.23  4.57  7.89  6\n",
      "1  2.35  5.68  8.90  5\n",
      "2  3.46  6.79  9.01  2\n"
     ]
    }
   ],
   "source": [
    "import pandas as pd\n",
    "\n",
    "# Exemplo de DataFrame\n",
    "data = pd.DataFrame({\n",
    "    'A': [1.234, 2.345, 3.456],\n",
    "    'B': [4.567, 5.678, 6.789],\n",
    "    'C': [7.890, 8.901, 9.012],\n",
    "    'E':['6', '5', '2']\n",
    "})\n",
    "\n",
    "# Arredondando todos os valores das colunas float para 2 casas decimais\n",
    "data_rounded = data.round(2)\n",
    "\n",
    "print(data_rounded)\n"
   ]
  },
  {
   "cell_type": "code",
   "execution_count": 16,
   "metadata": {},
   "outputs": [
    {
     "ename": "TypeError",
     "evalue": "unsupported operand type(s) for -: 'tuple' and 'tuple'",
     "output_type": "error",
     "traceback": [
      "\u001b[0;31m---------------------------------------------------------------------------\u001b[0m",
      "\u001b[0;31mTypeError\u001b[0m                                 Traceback (most recent call last)",
      "Cell \u001b[0;32mIn[16], line 1\u001b[0m\n\u001b[0;32m----> 1\u001b[0m (\u001b[39m6\u001b[39;49m, \u001b[39m9\u001b[39;49m) \u001b[39m-\u001b[39;49m (\u001b[39m3\u001b[39;49m,\u001b[39m2\u001b[39;49m)\n",
      "\u001b[0;31mTypeError\u001b[0m: unsupported operand type(s) for -: 'tuple' and 'tuple'"
     ]
    }
   ],
   "source": [
    "(6, 9) - (3,2)"
   ]
  },
  {
   "cell_type": "code",
   "execution_count": 20,
   "metadata": {},
   "outputs": [
    {
     "data": {
      "text/html": [
       "<div>\n",
       "<style scoped>\n",
       "    .dataframe tbody tr th:only-of-type {\n",
       "        vertical-align: middle;\n",
       "    }\n",
       "\n",
       "    .dataframe tbody tr th {\n",
       "        vertical-align: top;\n",
       "    }\n",
       "\n",
       "    .dataframe thead th {\n",
       "        text-align: right;\n",
       "    }\n",
       "</style>\n",
       "<table border=\"1\" class=\"dataframe\">\n",
       "  <thead>\n",
       "    <tr style=\"text-align: right;\">\n",
       "      <th></th>\n",
       "      <th>Metric</th>\n",
       "      <th>Tree</th>\n",
       "      <th>RFClf</th>\n",
       "      <th>LogReq</th>\n",
       "      <th>BagClf</th>\n",
       "      <th>KNN</th>\n",
       "      <th>kmeans</th>\n",
       "      <th>XGB</th>\n",
       "      <th>CSV</th>\n",
       "      <th>RFC_LR_BG</th>\n",
       "    </tr>\n",
       "  </thead>\n",
       "  <tbody>\n",
       "    <tr>\n",
       "      <th>0</th>\n",
       "      <td>accuracy</td>\n",
       "      <td>0.8014354066985646</td>\n",
       "      <td>0.9449760765550239</td>\n",
       "      <td>0.9282296650717703</td>\n",
       "      <td>0.8971291866028708</td>\n",
       "      <td>0.8157894736842105</td>\n",
       "      <td>0.65311004784689</td>\n",
       "      <td>0.8181818181818182</td>\n",
       "      <td>0.9497607655502392</td>\n",
       "      <td>0.9449760765550239</td>\n",
       "    </tr>\n",
       "    <tr>\n",
       "      <th>1</th>\n",
       "      <td>confusion_matrix (FN-FP)</td>\n",
       "      <td>(51, 32)</td>\n",
       "      <td>(15, 8)</td>\n",
       "      <td>(22, 8)</td>\n",
       "      <td>(5, 38)</td>\n",
       "      <td>(23, 54)</td>\n",
       "      <td>(12, 133)</td>\n",
       "      <td>(40, 36)</td>\n",
       "      <td>(16, 5)</td>\n",
       "      <td>(15, 8)</td>\n",
       "    </tr>\n",
       "    <tr>\n",
       "      <th>2</th>\n",
       "      <td>precision</td>\n",
       "      <td>0.7017543859649122</td>\n",
       "      <td>0.9056603773584906</td>\n",
       "      <td>0.8674698795180723</td>\n",
       "      <td>0.957983193277311</td>\n",
       "      <td>0.8099173553719008</td>\n",
       "      <td>0.6129032258064516</td>\n",
       "      <td>0.7435897435897436</td>\n",
       "      <td>0.901840490797546</td>\n",
       "      <td>0.9056603773584906</td>\n",
       "    </tr>\n",
       "    <tr>\n",
       "      <th>3</th>\n",
       "      <td>recall</td>\n",
       "      <td>0.7894736842105263</td>\n",
       "      <td>0.9473684210526315</td>\n",
       "      <td>0.9473684210526315</td>\n",
       "      <td>0.75</td>\n",
       "      <td>0.6447368421052632</td>\n",
       "      <td>0.125</td>\n",
       "      <td>0.7631578947368421</td>\n",
       "      <td>0.9671052631578947</td>\n",
       "      <td>0.9473684210526315</td>\n",
       "    </tr>\n",
       "    <tr>\n",
       "      <th>4</th>\n",
       "      <td>f1_score</td>\n",
       "      <td>0.7430340557275541</td>\n",
       "      <td>0.9260450160771704</td>\n",
       "      <td>0.9056603773584905</td>\n",
       "      <td>0.8413284132841328</td>\n",
       "      <td>0.7179487179487178</td>\n",
       "      <td>0.20765027322404372</td>\n",
       "      <td>0.7532467532467534</td>\n",
       "      <td>0.9333333333333332</td>\n",
       "      <td>0.9260450160771704</td>\n",
       "    </tr>\n",
       "  </tbody>\n",
       "</table>\n",
       "</div>"
      ],
      "text/plain": [
       "                     Metric                Tree               RFClf  \\\n",
       "0                  accuracy  0.8014354066985646  0.9449760765550239   \n",
       "1  confusion_matrix (FN-FP)            (51, 32)             (15, 8)   \n",
       "2                 precision  0.7017543859649122  0.9056603773584906   \n",
       "3                    recall  0.7894736842105263  0.9473684210526315   \n",
       "4                  f1_score  0.7430340557275541  0.9260450160771704   \n",
       "\n",
       "               LogReq              BagClf                 KNN  \\\n",
       "0  0.9282296650717703  0.8971291866028708  0.8157894736842105   \n",
       "1             (22, 8)             (5, 38)            (23, 54)   \n",
       "2  0.8674698795180723   0.957983193277311  0.8099173553719008   \n",
       "3  0.9473684210526315                0.75  0.6447368421052632   \n",
       "4  0.9056603773584905  0.8413284132841328  0.7179487179487178   \n",
       "\n",
       "                kmeans                 XGB                 CSV  \\\n",
       "0     0.65311004784689  0.8181818181818182  0.9497607655502392   \n",
       "1            (12, 133)            (40, 36)             (16, 5)   \n",
       "2   0.6129032258064516  0.7435897435897436   0.901840490797546   \n",
       "3                0.125  0.7631578947368421  0.9671052631578947   \n",
       "4  0.20765027322404372  0.7532467532467534  0.9333333333333332   \n",
       "\n",
       "            RFC_LR_BG  \n",
       "0  0.9449760765550239  \n",
       "1             (15, 8)  \n",
       "2  0.9056603773584906  \n",
       "3  0.9473684210526315  \n",
       "4  0.9260450160771704  "
      ]
     },
     "execution_count": 20,
     "metadata": {},
     "output_type": "execute_result"
    }
   ],
   "source": [
    "pd.read_csv('save.csv')"
   ]
  },
  {
   "cell_type": "code",
   "execution_count": 21,
   "metadata": {},
   "outputs": [
    {
     "data": {
      "text/html": [
       "<div>\n",
       "<style scoped>\n",
       "    .dataframe tbody tr th:only-of-type {\n",
       "        vertical-align: middle;\n",
       "    }\n",
       "\n",
       "    .dataframe tbody tr th {\n",
       "        vertical-align: top;\n",
       "    }\n",
       "\n",
       "    .dataframe thead th {\n",
       "        text-align: right;\n",
       "    }\n",
       "</style>\n",
       "<table border=\"1\" class=\"dataframe\">\n",
       "  <thead>\n",
       "    <tr style=\"text-align: right;\">\n",
       "      <th></th>\n",
       "      <th>A</th>\n",
       "      <th>B</th>\n",
       "    </tr>\n",
       "  </thead>\n",
       "  <tbody>\n",
       "    <tr>\n",
       "      <th>linha1</th>\n",
       "      <td>1</td>\n",
       "      <td>4</td>\n",
       "    </tr>\n",
       "    <tr>\n",
       "      <th>linha2</th>\n",
       "      <td>2</td>\n",
       "      <td>5</td>\n",
       "    </tr>\n",
       "    <tr>\n",
       "      <th>linha3</th>\n",
       "      <td>3</td>\n",
       "      <td>6</td>\n",
       "    </tr>\n",
       "  </tbody>\n",
       "</table>\n",
       "</div>"
      ],
      "text/plain": [
       "        A  B\n",
       "linha1  1  4\n",
       "linha2  2  5\n",
       "linha3  3  6"
      ]
     },
     "execution_count": 21,
     "metadata": {},
     "output_type": "execute_result"
    }
   ],
   "source": [
    "import pandas as pd\n",
    "\n",
    "# Exemplo de DataFrame com índices como strings\n",
    "data = pd.DataFrame({\n",
    "    'A': [1, 2, 3],\n",
    "    'B': [4, 5, 6]\n",
    "}, index=['linha1', 'linha2', 'linha3'])\n",
    "\n",
    "data\n"
   ]
  },
  {
   "cell_type": "code",
   "execution_count": 22,
   "metadata": {},
   "outputs": [],
   "source": [
    "# Salvar o DataFrame em um arquivo CSV\n",
    "data.to_csv('dados.csv', index_label='Index')"
   ]
  },
  {
   "cell_type": "code",
   "execution_count": 23,
   "metadata": {},
   "outputs": [
    {
     "data": {
      "text/html": [
       "<div>\n",
       "<style scoped>\n",
       "    .dataframe tbody tr th:only-of-type {\n",
       "        vertical-align: middle;\n",
       "    }\n",
       "\n",
       "    .dataframe tbody tr th {\n",
       "        vertical-align: top;\n",
       "    }\n",
       "\n",
       "    .dataframe thead th {\n",
       "        text-align: right;\n",
       "    }\n",
       "</style>\n",
       "<table border=\"1\" class=\"dataframe\">\n",
       "  <thead>\n",
       "    <tr style=\"text-align: right;\">\n",
       "      <th></th>\n",
       "      <th>A</th>\n",
       "      <th>B</th>\n",
       "      <th>Index</th>\n",
       "    </tr>\n",
       "  </thead>\n",
       "  <tbody>\n",
       "    <tr>\n",
       "      <th>0</th>\n",
       "      <td>NaN</td>\n",
       "      <td>NaN</td>\n",
       "      <td>NaN</td>\n",
       "    </tr>\n",
       "    <tr>\n",
       "      <th>1</th>\n",
       "      <td>NaN</td>\n",
       "      <td>NaN</td>\n",
       "      <td>NaN</td>\n",
       "    </tr>\n",
       "    <tr>\n",
       "      <th>2</th>\n",
       "      <td>NaN</td>\n",
       "      <td>NaN</td>\n",
       "      <td>NaN</td>\n",
       "    </tr>\n",
       "    <tr>\n",
       "      <th>linha1</th>\n",
       "      <td>NaN</td>\n",
       "      <td>NaN</td>\n",
       "      <td>NaN</td>\n",
       "    </tr>\n",
       "    <tr>\n",
       "      <th>linha2</th>\n",
       "      <td>NaN</td>\n",
       "      <td>NaN</td>\n",
       "      <td>NaN</td>\n",
       "    </tr>\n",
       "    <tr>\n",
       "      <th>linha3</th>\n",
       "      <td>NaN</td>\n",
       "      <td>NaN</td>\n",
       "      <td>NaN</td>\n",
       "    </tr>\n",
       "  </tbody>\n",
       "</table>\n",
       "</div>"
      ],
      "text/plain": [
       "         A   B  Index\n",
       "0      NaN NaN    NaN\n",
       "1      NaN NaN    NaN\n",
       "2      NaN NaN    NaN\n",
       "linha1 NaN NaN    NaN\n",
       "linha2 NaN NaN    NaN\n",
       "linha3 NaN NaN    NaN"
      ]
     },
     "execution_count": 23,
     "metadata": {},
     "output_type": "execute_result"
    }
   ],
   "source": [
    "aux = pd.read_csv('dados.csv') * 2\n",
    "\n",
    "aux - data"
   ]
  },
  {
   "cell_type": "code",
   "execution_count": 3,
   "metadata": {},
   "outputs": [
    {
     "data": {
      "image/png": "[encoded data removed]",
      "text/plain": [
       "<Figure size 800x600 with 1 Axes>"
      ]
     },
     "metadata": {},
     "output_type": "display_data"
    }
   ],
   "source": [
    "import pandas as pd\n",
    "import numpy as np\n",
    "from sklearn.model_selection import train_test_split\n",
    "from sklearn.linear_model import LogisticRegression\n",
    "from sklearn.metrics import roc_curve, roc_auc_score, auc\n",
    "import matplotlib.pyplot as plt\n",
    "\n",
    "# Exemplo de dados com uma variável de recurso (X) e a variável de destino (y) binária (0 ou 1)\n",
    "data = pd.DataFrame({\n",
    "    'X': [1, 2, 3, 4, 5, 6, 7, 8, 9, 10],\n",
    "    'y': [0, 0, 0, 0, 1, 1, 1, 1, 1, 1]\n",
    "})\n",
    "\n",
    "# Separar os dados em features (X) e target (y)\n",
    "X = data['X'].values.reshape(-1, 1)\n",
    "y = data['y'].values\n",
    "\n",
    "# Dividir os dados em conjunto de treinamento e conjunto de teste\n",
    "X_train, X_test, y_train, y_test = train_test_split(X, y, test_size=0.2, random_state=42)\n",
    "\n",
    "# Criar e treinar o modelo de regressão logística\n",
    "model = LogisticRegression()\n",
    "model.fit(X_train, y_train)\n",
    "\n",
    "# Prever as probabilidades para o conjunto de teste\n",
    "probs = model.predict_proba(X_test)[:,1]\n",
    "\n",
    "# Calcular a curva ROC\n",
    "fpr, tpr, thresholds = roc_curve(y_test, probs)\n",
    "\n",
    "# Calcular a AUC\n",
    "roc_auc = auc(fpr, tpr)\n",
    "\n",
    "# Plotar a curva ROC\n",
    "plt.figure(figsize=(8, 6))\n",
    "plt.plot(fpr, tpr, color='blue', lw=2, label=f'ROC curve (AUC = {roc_auc:.2f})')\n",
    "plt.plot([0, 1], [0, 1], color='gray', lw=1, linestyle='--')\n",
    "plt.xlim([0.0, 1.0])\n",
    "plt.ylim([0.0, 1.05])\n",
    "plt.xlabel('False Positive Rate (FPR)')\n",
    "plt.ylabel('True Positive Rate (TPR)')\n",
    "plt.title('Receiver Operating Characteristic (ROC)')\n",
    "plt.legend(loc='lower right')\n",
    "plt.show()\n"
   ]
  },
  {
   "cell_type": "code",
   "execution_count": 5,
   "metadata": {},
   "outputs": [
    {
     "data": {
      "image/png": "[encoded data removed]",
      "text/plain": [
       "<Figure size 800x600 with 1 Axes>"
      ]
     },
     "metadata": {},
     "output_type": "display_data"
    }
   ],
   "source": [
    "import pandas as pd\n",
    "import numpy as np\n",
    "from sklearn.model_selection import train_test_split\n",
    "from sklearn.linear_model import LogisticRegression\n",
    "from sklearn.metrics import roc_curve, roc_auc_score, auc\n",
    "import matplotlib.pyplot as plt\n",
    "\n",
    "# Exemplo de dados com duas variáveis de recurso (X1 e X2) e a variável de destino (y) binária (0 ou 1)\n",
    "data = pd.DataFrame({\n",
    "    'X1': [1, 2, 3, 4, 5, 6, 7, 8, 9, 10],\n",
    "    'X2': [3, 5, 4, 6, 8, 7, 9, 10, 12, 11],\n",
    "    'y': [0, 0, 0, 0, 1, 1, 1, 1, 1, 1]\n",
    "})\n",
    "\n",
    "# Separar os dados em features (X) e target (y)\n",
    "X = data[['X1', 'X2']].values\n",
    "y = data['y'].values\n",
    "\n",
    "# Dividir os dados em conjunto de treinamento e conjunto de teste\n",
    "X_train, X_test, y_train, y_test = train_test_split(X, y, test_size=0.2, random_state=42)\n",
    "\n",
    "# Criar e treinar o modelo de regressão logística\n",
    "model = LogisticRegression()\n",
    "model.fit(X_train, y_train)\n",
    "\n",
    "# Prever as probabilidades para o conjunto de teste\n",
    "probs = model.predict_proba(X_test)[:, 1]\n",
    "\n",
    "# Calcular a curva ROC\n",
    "fpr, tpr, thresholds = roc_curve(y_test, probs)\n",
    "\n",
    "# Calcular a AUC\n",
    "roc_auc = auc(fpr, tpr)\n",
    "\n",
    "# Plotar a curva ROC\n",
    "plt.figure(figsize=(8, 6))\n",
    "plt.plot(fpr, tpr, color='blue', lw=2, label=f'ROC curve (AUC = {roc_auc:.2f})')\n",
    "plt.plot([0, 1], [0, 1], color='gray', lw=1, linestyle='--')\n",
    "plt.xlim([0.0, 1.0])\n",
    "plt.ylim([0.0, 1.05])\n",
    "plt.xlabel('False Positive Rate (FPR)')\n",
    "plt.ylabel('True Positive Rate (TPR)')\n",
    "plt.title('Receiver Operating Characteristic (ROC)')\n",
    "plt.legend(loc='lower right')\n",
    "plt.show()\n"
   ]
  },
  {
   "cell_type": "code",
   "execution_count": 6,
   "metadata": {},
   "outputs": [
    {
     "data": {
      "text/plain": [
       "array([1.99939448, 0.99939448, 0.05356541])"
      ]
     },
     "execution_count": 6,
     "metadata": {},
     "output_type": "execute_result"
    }
   ],
   "source": [
    "thresholds"
   ]
  },
  {
   "cell_type": "code",
   "execution_count": 1,
   "metadata": {},
   "outputs": [
    {
     "ename": "NameError",
     "evalue": "name 'y_true' is not defined",
     "output_type": "error",
     "traceback": [
      "\u001b[0;31m---------------------------------------------------------------------------\u001b[0m",
      "\u001b[0;31mNameError\u001b[0m                                 Traceback (most recent call last)",
      "Cell \u001b[0;32mIn[1], line 8\u001b[0m\n\u001b[1;32m      3\u001b[0m \u001b[39mimport\u001b[39;00m \u001b[39mseaborn\u001b[39;00m \u001b[39mas\u001b[39;00m \u001b[39msns\u001b[39;00m\n\u001b[1;32m      5\u001b[0m \u001b[39m# Suponha que você já tenha obtido sua matriz de confusão, por exemplo:\u001b[39;00m\n\u001b[1;32m      6\u001b[0m \u001b[39m# y_true = rótulos verdadeiros\u001b[39;00m\n\u001b[1;32m      7\u001b[0m \u001b[39m# y_pred = rótulos previstos\u001b[39;00m\n\u001b[0;32m----> 8\u001b[0m cm \u001b[39m=\u001b[39m confusion_matrix(y_true, y_pred)\n\u001b[1;32m     10\u001b[0m \u001b[39m# Crie uma visualização da matriz de confusão usando seaborn\u001b[39;00m\n\u001b[1;32m     11\u001b[0m plt\u001b[39m.\u001b[39mfigure(figsize\u001b[39m=\u001b[39m(\u001b[39m8\u001b[39m, \u001b[39m6\u001b[39m))\n",
      "\u001b[0;31mNameError\u001b[0m: name 'y_true' is not defined"
     ]
    }
   ],
   "source": [
    "import matplotlib.pyplot as plt\n",
    "from sklearn.metrics import confusion_matrix\n",
    "import seaborn as sns\n",
    "\n",
    "# Suponha que você já tenha obtido sua matriz de confusão, por exemplo:\n",
    "# y_true = rótulos verdadeiros\n",
    "# y_pred = rótulos previstos\n",
    "cm = confusion_matrix(y_true, y_pred)\n",
    "\n",
    "# Crie uma visualização da matriz de confusão usando seaborn\n",
    "plt.figure(figsize=(8, 6))\n",
    "sns.heatmap(cm, annot=True, fmt=\"d\", cmap=\"Blues\")\n",
    "plt.xlabel('Predicted')\n",
    "plt.ylabel('Actual')\n",
    "plt.title('Confusion Matrix')\n",
    "plt.show()\n"
   ]
  }
 ],
 "metadata": {
  "kernelspec": {
   "display_name": "env",
   "language": "python",
   "name": "python3"
  },
  "language_info": {
   "codemirror_mode": {
    "name": "ipython",
    "version": 3
   },
   "file_extension": ".py",
   "mimetype": "text/x-python",
   "name": "python",
   "nbconvert_exporter": "python",
   "pygments_lexer": "ipython3",
   "version": "3.10.12"
  },
  "orig_nbformat": 4
 },
 "nbformat": 4,
 "nbformat_minor": 2
}
